{
 "cells": [
  {
   "cell_type": "code",
   "execution_count": 1,
   "metadata": {},
   "outputs": [],
   "source": [
    "import warnings\n",
    "warnings.filterwarnings('ignore')\n",
    "\n",
    "import pandas as pd\n",
    "import numpy as np\n",
    "import matplotlib.pyplot as plt\n",
    "import seaborn as sns\n",
    "sns.set()\n",
    "\n",
    "from sklearn.ensemble import GradientBoostingRegressor\n",
    "from sklearn.model_selection import train_test_split\n",
    "from sklearn.metrics import mean_squared_error\n",
    "\n",
    "rs = 0"
   ]
  },
  {
   "cell_type": "code",
   "execution_count": 13,
   "metadata": {},
   "outputs": [],
   "source": [
    "feature_dfs = [pd.read_csv(f'output/feat_df_{str(i)}').drop('Unnamed: 0', axis=1) for i in range(6)]\n",
    "combined_feats = pd.read_csv('output/combined_feats').drop('Unnamed: 0', axis=1)\n",
    "train_scores = pd.read_csv('input/train_scores.csv')"
   ]
  },
  {
   "cell_type": "code",
   "execution_count": 17,
   "metadata": {},
   "outputs": [
    {
     "name": "stdout",
     "output_type": "stream",
     "text": [
      "MSQE: validation set for pattern info\n",
      "0.82\n",
      "MSQE: validation set for n-gram tdidf\n",
      "0.702\n",
      "MSQE: validation set for iki info\n",
      "0.725\n",
      "MSQE: validation set for agg info\n",
      "0.656\n",
      "MSQE: validation set for other count info\n",
      "0.727\n",
      "MSQE: validation set for gap info\n",
      "0.683\n"
     ]
    }
   ],
   "source": [
    "X, y = combined_feats, train_scores['score']\n",
    "X, X_test, y, y_test = train_test_split(X, y, test_size=.2, random_state=rs)\n",
    "X_train, X_valid, y_train, y_valid = train_test_split(X, y, test_size=.25, random_state=rs)\n",
    "df_names = ['pattern info', 'n-gram tdidf', 'iki info', 'agg info', 'other count info', 'gap info']\n",
    "y_trains = []\n",
    "y_valids = []\n",
    "for i, df in enumerate(feature_dfs):\n",
    "    model = GradientBoostingRegressor()\n",
    "    model.fit(X_train[df.columns], y_train)\n",
    "    y_predict_train = model.predict(X_train[df.columns])\n",
    "    y_predict_valid = model.predict(X_valid[df.columns])\n",
    "    # print(f'MSQE: training set for df')\n",
    "    # print(mean_squared_error(y_train, y_predict_train, squared=False))\n",
    "    print(f'MSQE: validation set for {df_names[i]}')\n",
    "    print(round(mean_squared_error(y_valid, y_predict_valid, squared=False), 3))\n",
    "    y_trains.append(y_predict_train)\n",
    "    y_valids.append(y_predict_valid)"
   ]
  },
  {
   "cell_type": "code",
   "execution_count": 22,
   "metadata": {},
   "outputs": [
    {
     "name": "stdout",
     "output_type": "stream",
     "text": [
      "MSQE: training set\n",
      "0.191\n",
      "MSQE: validation set for gap info\n",
      "0.232\n"
     ]
    }
   ],
   "source": [
    "weights = [.1, .1, .1, .35, .1, .25]\n",
    "y_train_combined, y_valids_combined = y_trains[0] * weights[0], y_valids[0] * weights[0]\n",
    "for i in range(1, len(weights)):\n",
    "    y_train_combined += y_trains[i] * weights[i]\n",
    "    y_valids_combined += y_valids[i] * weights[i]\n",
    "print(f'MSQE: training set')\n",
    "print(round(mean_squared_error(y_train_combined, y_predict_train, squared=False), 3))\n",
    "print(f'MSQE: validation set for {df_names[i]}')\n",
    "print(round(mean_squared_error(y_valids_combined, y_predict_valid, squared=False), 3))"
   ]
  }
 ],
 "metadata": {
  "kernelspec": {
   "display_name": "Python 3",
   "language": "python",
   "name": "python3"
  },
  "language_info": {
   "codemirror_mode": {
    "name": "ipython",
    "version": 3
   },
   "file_extension": ".py",
   "mimetype": "text/x-python",
   "name": "python",
   "nbconvert_exporter": "python",
   "pygments_lexer": "ipython3",
   "version": "3.11.0"
  }
 },
 "nbformat": 4,
 "nbformat_minor": 2
}
